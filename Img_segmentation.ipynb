{
 "cells": [
  {
   "cell_type": "markdown",
   "metadata": {},
   "source": [
    "# Image segmentation for self-driving car"
   ]
  },
  {
   "cell_type": "markdown",
   "metadata": {},
   "source": [
    "Welcome to Image segmentation for self-driving car project.\n",
    "In this project I will explore about semantic image segmentation for self-driving car.\n",
    "In this jupyter notebook I am going to go through the complete process of the project along with code snippets."
   ]
  },
  {
   "cell_type": "markdown",
   "metadata": {},
   "source": [
    "## Table of Content\n",
    "- [1 - Problem statement](#1)\n",
    "    - [1.1 - The goals of the project](#1-1)\n",
    "    - [1.2 - The challenges of the project](#1-2)\n",
    "- [2 - Introduction to the Problem](#2)\n",
    "    - [2.1 - What is image segmentation?](#2-1)\n",
    "    - [2.2 - Types of image segmentation](#2-2)\n",
    "        - [2.2.1 - Image semantic segmentation](#2-2-1)\n",
    "        - [2.2.2 - Image Instance segmentation](#2-2-2)\n",
    "        - [2.2.3 - Image Panoptic segmentation](#2-2-3)\n",
    "    - [2.3 - Image segmentation Methods](#2-3)\n",
    "        - [2.3.1 - Traditional Methods](#2-3-1)\n",
    "        - [2.3.2 - Deep learning Methods](#2-3-2)\n",
    "- [3 - CityScapes dataset](#3)\n",
    "    - [3.1 - Features](#3-1)\n",
    "    - [3.2 - Classes](#3-2)\n",
    "- [4 - Packages](#4)\n",
    "- [5 - Load Data and preProceesing](#5)\n",
    "    "
   ]
  },
  {
   "cell_type": "markdown",
   "metadata": {},
   "source": [
    "<a name='1'></a>\n",
    "## 1 - Problem statement\n",
    "\n",
    "Our problem is to explore Unet architectures for do semantic segmentation on Cityscapes dataset\n",
    "and try to get the lowest Computational Cost, lowest storage and the best accuracy."
   ]
  },
  {
   "cell_type": "markdown",
   "metadata": {},
   "source": [
    "<a name='1-1'></a>\n",
    "### 1.1 - The goals of the project\n",
    "The goals of the project are:\n",
    "\n",
    "* To explore semantic segmentation for self-driving car.\n",
    "* To explore how Unet architectures work for self-driving car.\n",
    "* To get the the lowest Computational Cost, lowest storage and the best accuracy that I can on Cityscapes Dataset when I use Unet architectures.\n",
    "* To explore different Unet architectures and different methods that will help to achieve the thrid goal\n",
    "and compare between them."
   ]
  },
  {
   "cell_type": "markdown",
   "metadata": {},
   "source": [
    "<a name='1-2'></a>\n",
    "### 1.2 - The challenges of the project\n",
    "The challenges of the project are:\n",
    "\n",
    "* Our data set is contains large images. This is Makes it difficult for us to do semantic segmentation problem for self-driving car and increases the Computational Cost and storage. This leads us to use complex architectures for get good accuracy and therefore we encounter situation that we need to striking balance the trade off between accuracy of the model and Computational Cost and storage.\n",
    "\n",
    "* Self-driving car tasks are real-time tasks and therefore we must to solve the problem with the lowest Computational Cost, lowest storage and use efficient segmentation algorithms\n",
    "\n",
    "* Self-driving car tasks are difficlut, because there are many situations we can encounter while driving, for example: different weather conditions, daytime vs nighttime, different road conditions, blurry noisable and unintelligible images and more.\n",
    "\n",
    "* Our data set contain 30 classes, so we have a lot of classes.\n",
    "\n",
    "* Semantic segmentation for self-driving car is difficult. We need to achieve high accuracy in pixel-level segmentation for ensure safe driving. Even small error can lead significant consequences.\n",
    "\n",
    "* Because we have limited dataset size we have more chance for overfitting.\n",
    "\n",
    "* Because we have limited dataset size we have more chance for bad generalization and bad adaptation to scenarios and environments that the model don't saw."
   ]
  },
  {
   "cell_type": "markdown",
   "metadata": {},
   "source": [
    "<a name='2'></a>\n",
    "## 2 - Introduction to the Problem\n",
    "In this section I will give some introduction to the Problem.\n",
    "I will explain briefly about image segmentation."
   ]
  },
  {
   "cell_type": "markdown",
   "metadata": {},
   "source": [
    "<a name='2-1'></a>\n",
    "### 2.1 - What is image segmentation?\n",
    "Image segmentation is a famous task in computer vision.\n",
    "\n",
    "Image segmentation is the process of dividing an image into multiple meaningful regions or objects based on their inherent characteristics, such as color, texture, shape, or brightness. \n",
    "\n",
    "In this way we can get more information about the image and we can easier to analyze the image.\n",
    "For example in self-driving car tasks we can get better scene understanding and get desicions accrding this, like stop if we close to car or pedestrian."
   ]
  },
  {
   "cell_type": "markdown",
   "metadata": {},
   "source": [
    "<a name='2-2'></a>\n",
    "### 2.2 - Types of image segmentation\n",
    "There are 3 types of image segmentation: semantic segmentation, instance segmentation and panoptic segmentation.\n",
    "\n",
    "In this project I will work on semantic segmentation but now I will cover briefly all the 3 types of image segmentation."
   ]
  },
  {
   "cell_type": "markdown",
   "metadata": {},
   "source": [
    "<a name='2-2-1'></a>\n",
    "#### 2.2.1 - Image semantic segmentation\n",
    "Image semantic segmentation is a famous task in computer vision of labelling each pixel of the image into a predefined set of classes.\n",
    "That mean that we ask the following question:\n",
    "\n",
    "\"What objects are in this image and where exactly in the image are those objects located? \n",
    "Give me precise mask for each object in the image by labeling each pixel in the image with its corresponding class.\"\n",
    "\n",
    "For example:\n",
    "\n",
    "<div style=\"text-align:center\">\n",
    "<img src=\"Images/semantic segmentation.webp\" style=\"width:500px;height:250;\">\n",
    "</div>\n",
    "<caption><center> <u><b>Figure 1</u></b>: Example of a semantic segmented image <a href=\"https://medium.com/analytics-vidhya/introduction-to-semantic-image-segmentation-856cda5e5de8\">(Source)</a> <br> </center></caption>"
   ]
  },
  {
   "cell_type": "markdown",
   "metadata": {},
   "source": [
    "<a name='2-2-2'></a>\n",
    "#### 2.2.2 - Image instance segmentation\n",
    "Image instance segmentation involves detecting and segmenting each object in an image.\n",
    "\n",
    "Differently from semantic segmentation that labelling each pixel of the image into a predefined set of classes, this type of segmentation segmenting the object’s boundaries.\n",
    "That mean that we ask the following question:\n",
    "\n",
    "\"What objects are in this image and what the boundaries of those objects?\"\n",
    "\n",
    "For example:\n",
    "\n",
    "<div style=\"text-align:center\">\n",
    "<img src=\"Images/Instance segmentation input.png\" style=\"width:500px;height:300px;\">\n",
    "<img src=\"Images/Instance segmentation output.png\" style=\"width:500px;height:300px;\">\n",
    "</div>\n",
    "<caption><center> <u><b>Figure 2</u></b>: Example of a instance segmented image<br> </center></caption>\n"
   ]
  },
  {
   "cell_type": "markdown",
   "metadata": {},
   "source": [
    "<a name='2-2-3'></a>\n",
    "#### 2.2.3 - Image panoptic segmentation\n",
    "Panoptic segmentation generalizes both semantic and instance segmentation.\n",
    "\n",
    "That mean that we ask the following question:\n",
    "\n",
    "\"What different objects are in this image and where exactly in the image are those objects located?\n",
    "Give me precise mask for each object in the image by labeling each pixel in the image with its corresponding class and distinguish between objects that are different from the same class.\"\n",
    "\n",
    "This type of image segmentation get the most information from the image, because he knows also tell where there are different object. For example in self-driving car taks this is important because we want to know what and where the different objects but also want to distinguish between different cars or pedestrians.\n",
    "\n",
    "For example:\n",
    "\n",
    "<div style=\"text-align:center\">\n",
    "<img src=\"Images/Panoptic segmentation input.png\" style=\"width:500px;height:300;\">\n",
    "<img src=\"Images/Panoptic segmentation output.png\" style=\"width:500px;height:300;\">\n",
    "</div>\n",
    "<caption><center> <u><b>Figure 3</u></b>: Example of a panoptic segmented image<br><a href=\"https://medium.com/hasty-ai/panoptic-segmentation-explained-ca10597fb357\">(Source)</a> </center></caption>\n"
   ]
  },
  {
   "cell_type": "markdown",
   "metadata": {},
   "source": [
    "<a name='2-3'></a>\n",
    "### 2.3 - Image segmentation Methods\n",
    "In this project I will explore Unet architectures for image semantic segmentation.\n",
    "\n",
    "Now I will cover briefly Image segmentation methods."
   ]
  },
  {
   "cell_type": "markdown",
   "metadata": {},
   "source": [
    "<a name='2-3-1'></a>\n",
    "#### 2.3.1 - Traditional Methods\n",
    "Traditional methods for image segmentation are usually computationally efficient and relatively simple to implement(for example relatively to deep learning methods). \n",
    "\n",
    "Some examples of traditional methods for image segmentation are:\n",
    "* Thresholding like: Global thresholding and Adaptive thresholding\n",
    "* Edge-based Segmentation like: Canny edge detection and Sobel edge detection\n",
    "* Clustering like: K-means clustering\n",
    "\n",
    "Traditional image segmentation methods are more suitable for simpler image segmentation and have limited accuracy on complex scenes. \n",
    "\n",
    "Therefore when deep learning field start raise, pepole started use deep learning methods for image segmentation tasks, because they are have high accuracy(relatively to traditional methods) on complex scenes and suitable not only for simpler image segmentation, but also for complex image segmentation."
   ]
  },
  {
   "cell_type": "markdown",
   "metadata": {},
   "source": [
    "<a name='2-3-2'></a>\n",
    "#### 2.3.2 - Deep learning Methods\n",
    "Deap learning methods for image segmentation are less computationally efficient than Traditional methods for image segmentation and relatively complex to implement. \n",
    "\n",
    "As I said in section 2.3.1 deap learning methods for image segmentation are have high accuracy(relatively to traditional methods) on complex scenes and suitable not only for simpler image segmentation, but also for complex image segmentation.\n",
    "\n",
    "Some examples of deap learning methods for image segmentation are:\n",
    "* U-Net, in this project I will explore Unet architectures for image semantic segmentation.\n",
    "* SegNet\n",
    "* DeepLab\n",
    "* Panoptic FPN\n",
    "* FCN"
   ]
  },
  {
   "cell_type": "markdown",
   "metadata": {},
   "source": [
    "<a name='3'></a>\n",
    "## 3 - CityScapes dataset\n",
    "In this project I will use the CityScapes dataset. \n",
    "\n",
    "In this section I will give overiew of CityScapes dataset."
   ]
  },
  {
   "cell_type": "markdown",
   "metadata": {},
   "source": [
    "<a name='3-1'></a>\n",
    "### 3.1 - Features\n",
    "The features of CityScapes dataset that I use are, according the <a href=\"https://www.cityscapes-dataset.com/dataset-overview/#features\">CityScapes site</a> are:\n",
    "\n",
    "* Complexity\n",
    "    * 30 classes\n",
    "    * See Class Definitions in section 3.2\n",
    "\n",
    "* Diversity\n",
    "    * 50 cities\n",
    "    * Several months (spring, summer, fall)\n",
    "    * Daytime\n",
    "    * Good/medium weather conditions\n",
    "    * Manually selected frames\n",
    "        * Large number of dynamic objects\n",
    "        * Varying scene layout\n",
    "        * Varying background\n",
    "\n",
    "* Volume\n",
    "    * 5000 annotated images with fine annotations\n",
    "\n",
    "* Images dimensions\n",
    "    * 2048x1024 pixels \n",
    "\n",
    "* Division into train/dev/test sets\n",
    "    * Train set contains 2975 images, that mean the size of the train set is 59.5% of the dataset.\n",
    "    * Dev(or validation set) set contains 500 images, that mean the size of the dev set is 10% of the dataset. \n",
    "    * Test set contains 1,525 images, that mean the size of the dev set is 30.5% of the dataset.\n",
    "\n",
    "    In summary, the dataset division into train/dev/test sets is 59.5%/10%/30.5%.\n",
    "    For Now we will keep this division and if we will need we will change this division in the future.\n",
    "    In total this is a logical division into train/dev/test, according our dataset size.\n",
    "    \n",
    "<div style=\"text-align:center\">\n",
    "<img src=\"Images/cityscapesCities.jpg\" style=\"width:500px;height:400px;\">\n",
    "</div>\n",
    "<caption><center> <u><b>Figure 4</u></b>: Contained cities in CityScapes dataset<br><a href=\"https://www.cityscapes-dataset.com/dataset-overview/#features\">(Source)</a> </center></caption>"
   ]
  },
  {
   "cell_type": "code",
   "execution_count": null,
   "metadata": {},
   "outputs": [],
   "source": []
  }
 ],
 "metadata": {
  "kernelspec": {
   "display_name": "base",
   "language": "python",
   "name": "python3"
  },
  "language_info": {
   "name": "python",
   "version": "3.10.9"
  }
 },
 "nbformat": 4,
 "nbformat_minor": 2
}
